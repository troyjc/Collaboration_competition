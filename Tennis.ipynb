{
 "cells": [
  {
   "cell_type": "markdown",
   "metadata": {},
   "source": [
    "# Collaboration and Competition\n",
    "\n",
    "---\n",
    "\n",
    "In this notebook, you will learn how to use the Unity ML-Agents environment for the third project of the [Deep Reinforcement Learning Nanodegree](https://www.udacity.com/course/deep-reinforcement-learning-nanodegree--nd893) program.\n",
    "\n",
    "### 1. Start the Environment\n",
    "\n",
    "We begin by importing the necessary packages.  If the code cell below returns an error, please revisit the project instructions to double-check that you have installed [Unity ML-Agents](https://github.com/Unity-Technologies/ml-agents/blob/master/docs/Installation.md) and [NumPy](http://www.numpy.org/)."
   ]
  },
  {
   "cell_type": "code",
   "execution_count": 1,
   "metadata": {},
   "outputs": [],
   "source": [
    "from unityagents import UnityEnvironment\n",
    "import numpy as np"
   ]
  },
  {
   "cell_type": "markdown",
   "metadata": {},
   "source": [
    "Next, we will start the environment!  **_Before running the code cell below_**, change the `file_name` parameter to match the location of the Unity environment that you downloaded.\n",
    "\n",
    "- **Mac**: `\"path/to/Tennis.app\"`\n",
    "- **Windows** (x86): `\"path/to/Tennis_Windows_x86/Tennis.exe\"`\n",
    "- **Windows** (x86_64): `\"path/to/Tennis_Windows_x86_64/Tennis.exe\"`\n",
    "- **Linux** (x86): `\"path/to/Tennis_Linux/Tennis.x86\"`\n",
    "- **Linux** (x86_64): `\"path/to/Tennis_Linux/Tennis.x86_64\"`\n",
    "- **Linux** (x86, headless): `\"path/to/Tennis_Linux_NoVis/Tennis.x86\"`\n",
    "- **Linux** (x86_64, headless): `\"path/to/Tennis_Linux_NoVis/Tennis.x86_64\"`\n",
    "\n",
    "For instance, if you are using a Mac, then you downloaded `Tennis.app`.  If this file is in the same folder as the notebook, then the line below should appear as follows:\n",
    "```\n",
    "env = UnityEnvironment(file_name=\"Tennis.app\")\n",
    "```"
   ]
  },
  {
   "cell_type": "code",
   "execution_count": 2,
   "metadata": {},
   "outputs": [
    {
     "name": "stderr",
     "output_type": "stream",
     "text": [
      "INFO:unityagents:\n",
      "'Academy' started successfully!\n",
      "Unity Academy name: Academy\n",
      "        Number of Brains: 1\n",
      "        Number of External Brains : 1\n",
      "        Lesson number : 0\n",
      "        Reset Parameters :\n",
      "\t\t\n",
      "Unity brain name: TennisBrain\n",
      "        Number of Visual Observations (per agent): 0\n",
      "        Vector Observation space type: continuous\n",
      "        Vector Observation space size (per agent): 8\n",
      "        Number of stacked Vector Observation: 3\n",
      "        Vector Action space type: continuous\n",
      "        Vector Action space size (per agent): 2\n",
      "        Vector Action descriptions: , \n"
     ]
    }
   ],
   "source": [
    "env = UnityEnvironment(file_name=\"./Tennis.app\")"
   ]
  },
  {
   "cell_type": "markdown",
   "metadata": {},
   "source": [
    "Environments contain **_brains_** which are responsible for deciding the actions of their associated agents. Here we check for the first brain available, and set it as the default brain we will be controlling from Python."
   ]
  },
  {
   "cell_type": "code",
   "execution_count": 3,
   "metadata": {},
   "outputs": [],
   "source": [
    "# get the default brain\n",
    "brain_name = env.brain_names[0]\n",
    "brain = env.brains[brain_name]"
   ]
  },
  {
   "cell_type": "markdown",
   "metadata": {},
   "source": [
    "### 2. Examine the State and Action Spaces\n",
    "\n",
    "In this environment, two agents control rackets to bounce a ball over a net. If an agent hits the ball over the net, it receives a reward of +0.1.  If an agent lets a ball hit the ground or hits the ball out of bounds, it receives a reward of -0.01.  Thus, the goal of each agent is to keep the ball in play.\n",
    "\n",
    "The observation space consists of 8 variables corresponding to the position and velocity of the ball and racket. Two continuous actions are available, corresponding to movement toward (or away from) the net, and jumping. \n",
    "\n",
    "Run the code cell below to print some information about the environment."
   ]
  },
  {
   "cell_type": "code",
   "execution_count": 4,
   "metadata": {},
   "outputs": [
    {
     "name": "stdout",
     "output_type": "stream",
     "text": [
      "Number of agents: 2\n",
      "Size of each action: 2\n",
      "There are 2 agents. Each observes a state with length: 24\n",
      "The state for the first agent looks like: [ 0.          0.          0.          0.          0.          0.\n",
      "  0.          0.          0.          0.          0.          0.\n",
      "  0.          0.          0.          0.         -6.65278625 -1.5\n",
      " -0.          0.          6.83172083  6.         -0.          0.        ]\n"
     ]
    }
   ],
   "source": [
    "# reset the environment\n",
    "env_info = env.reset(train_mode=True)[brain_name]\n",
    "\n",
    "# number of agents \n",
    "num_agents = len(env_info.agents)\n",
    "print('Number of agents:', num_agents)\n",
    "\n",
    "# size of each action\n",
    "action_size = brain.vector_action_space_size\n",
    "print('Size of each action:', action_size)\n",
    "\n",
    "# examine the state space \n",
    "states = env_info.vector_observations\n",
    "state_size = states.shape[1]\n",
    "print('There are {} agents. Each observes a state with length: {}'.format(states.shape[0], state_size))\n",
    "print('The state for the first agent looks like:', states[0])"
   ]
  },
  {
   "cell_type": "markdown",
   "metadata": {},
   "source": [
    "### 3. Take Random Actions in the Environment\n",
    "\n",
    "In the next code cell, you will learn how to use the Python API to control the agents and receive feedback from the environment.\n",
    "\n",
    "Once this cell is executed, you will watch the agents' performance, if they select actions at random with each time step.  A window should pop up that allows you to observe the agents.\n",
    "\n",
    "Of course, as part of the project, you'll have to change the code so that the agents are able to use their experiences to gradually choose better actions when interacting with the environment!"
   ]
  },
  {
   "cell_type": "code",
   "execution_count": null,
   "metadata": {},
   "outputs": [],
   "source": [
    "for i in range(1, 6):                                      # play game for 5 episodes\n",
    "    env_info = env.reset(train_mode=False)[brain_name]     # reset the environment    \n",
    "    states = env_info.vector_observations                  # get the current state (for each agent)\n",
    "    print(\"Shape of states is {}\".format(states.shape))\n",
    "    scores = np.zeros(num_agents)                          # initialize the score (for each agent)\n",
    "    episode_len = 0\n",
    "    while True:\n",
    "        actions = np.random.randn(num_agents, action_size) # select an action (for each agent)\n",
    "        actions = np.clip(actions, -1, 1)                  # all actions between -1 and 1\n",
    "        env_info = env.step(actions)[brain_name]           # send all actions to tne environment\n",
    "        next_states = env_info.vector_observations         # get next state (for each agent)\n",
    "        rewards = env_info.rewards                         # get reward (for each agent)\n",
    "        dones = env_info.local_done                        # see if episode finished\n",
    "        scores += env_info.rewards                         # update the score (for each agent)\n",
    "        states = next_states                               # roll over states to next time step\n",
    "        episode_len += 1\n",
    "        if np.any(dones):                                  # exit loop if episode finished\n",
    "            print(\"Count is {}\".format(episode_len))\n",
    "            break\n",
    "    print('Score (max over agents) from episode {}: {}'.format(i, np.max(scores)))"
   ]
  },
  {
   "cell_type": "markdown",
   "metadata": {},
   "source": [
    "When finished, you can close the environment."
   ]
  },
  {
   "cell_type": "code",
   "execution_count": null,
   "metadata": {},
   "outputs": [],
   "source": [
    "env.close()"
   ]
  },
  {
   "cell_type": "markdown",
   "metadata": {},
   "source": [
    "### 4. It's Your Turn!\n",
    "\n",
    "Now it's your turn to train your own agent to solve the environment!  When training the environment, set `train_mode=True`, so that the line for resetting the environment looks like the following:\n",
    "```python\n",
    "env_info = env.reset(train_mode=True)[brain_name]\n",
    "```"
   ]
  },
  {
   "cell_type": "code",
   "execution_count": 5,
   "metadata": {},
   "outputs": [],
   "source": [
    "import torch\n",
    "import torch.nn as nn\n",
    "import torch.nn.functional as F\n",
    "\n",
    "# Implement Actor policy\n",
    "class Actor(nn.Module):\n",
    "    def __init__(self, state_size, action_size, hidden1=256, hidden2=256):\n",
    "        super(Actor, self).__init__()\n",
    "        \n",
    "        # Two hidden layers as specified in DDPG paper. Unlike the DDPG\n",
    "        # paper, don't use batch norm\n",
    "        self.fc1 = nn.Linear(state_size, hidden1)\n",
    "        torch.nn.init.uniform_(self.fc1.weight, -1.0/np.sqrt(state_size), 1.0/np.sqrt(state_size))\n",
    "\n",
    "        self.fc2 = nn.Linear(hidden1, hidden2)\n",
    "        torch.nn.init.uniform_(self.fc1.weight, -1.0/np.sqrt(hidden1), 1.0/np.sqrt(hidden1))\n",
    "\n",
    "        # Create an output layer for the actions\n",
    "        self.action = nn.Linear(hidden2, action_size)\n",
    "        torch.nn.init.uniform_(self.action.weight, -3e-3, 3e-3)\n",
    " \n",
    "    def forward(self, state):\n",
    "        x = F.leaky_relu(self.fc1(state))\n",
    "        x = F.leaky_relu(self.fc2(x))\n",
    "\n",
    "        # Use a tanh layer to bound the actions\n",
    "        return torch.tanh(self.action(x))\n",
    "    \n",
    "# Implement Critic policy\n",
    "class Critic(nn.Module):\n",
    "    def __init__(self, state_size, action_size, hidden1=256, hidden2=256):\n",
    "        super(Critic, self).__init__()\n",
    "\n",
    "        # Two hidden layers as specified in DDPG paper. Unlike the DDPG\n",
    "        # paper, include actions in the input layer and don't use batch norm\n",
    "        self.fc1 = nn.Linear(state_size + action_size, hidden1)\n",
    "        torch.nn.init.uniform_(self.fc1.weight,\n",
    "                               -1.0/np.sqrt(state_size + action_size),\n",
    "                               1.0/np.sqrt(state_size + action_size))\n",
    "\n",
    "        self.fc2 = nn.Linear(hidden1, hidden2)\n",
    "        torch.nn.init.uniform_(self.fc2.weight, -1.0/np.sqrt(hidden1), 1.0/np.sqrt(hidden1))\n",
    "\n",
    "        # Output layer for the value\n",
    "        self.value = nn.Linear(hidden2, 1)\n",
    "        torch.nn.init.uniform_(self.value.weight, -3e-3, 3e-3)\n",
    "\n",
    "    def forward(self, state, action):\n",
    "        x = torch.cat([state, action], dim=1)\n",
    "        x = F.leaky_relu(self.fc1(x))\n",
    "        x = F.leaky_relu(self.fc2(x))\n",
    "        return self.value(x)"
   ]
  },
  {
   "cell_type": "code",
   "execution_count": 6,
   "metadata": {},
   "outputs": [],
   "source": [
    "# Based on http://math.stackexchange.com/questions/1287634/implementing-ornstein-uhlenbeck-in-matlab\n",
    "class OrnsteinUhlenbeckActionNoise:\n",
    "    def __init__(self, mu, sigma, theta=.15, dt=1e-2, x0=None):\n",
    "        self.theta = theta\n",
    "        self.mu = mu\n",
    "        self.sigma = sigma\n",
    "        self.dt = dt\n",
    "        self.x0 = x0\n",
    "        self.reset()\n",
    "\n",
    "    def __call__(self):\n",
    "        x = self.x_prev + self.theta * (self.mu - self.x_prev) * self.dt + self.sigma * np.sqrt(self.dt) * np.random.normal(size=self.mu.shape)\n",
    "        self.x_prev = x\n",
    "        return x\n",
    "\n",
    "    def reset(self):\n",
    "        self.x_prev = self.x0 if self.x0 is not None else np.zeros_like(self.mu)\n",
    "\n",
    "    def __repr__(self):\n",
    "        return 'OrnsteinUhlenbeckActionNoise(mu={}, sigma={})'.format(self.mu, self.sigma)"
   ]
  },
  {
   "cell_type": "markdown",
   "metadata": {},
   "source": [
    "### 5. MADDPG\n",
    "\n",
    "Implement the MADDPG algorithm"
   ]
  },
  {
   "cell_type": "code",
   "execution_count": 7,
   "metadata": {},
   "outputs": [],
   "source": [
    "from collections import deque\n",
    "import random\n",
    "import copy\n",
    "import torch.optim as optim\n",
    "from tensorboardX import SummaryWriter\n",
    "\n",
    "BATCH_SIZE=128\n",
    "\n",
    "class ReplayBuffer:\n",
    "    def __init__(self, max_size):\n",
    "        self.buffer = deque(maxlen=max_size)\n",
    "        \n",
    "    def add(self, state, action, reward, done, next_state):\n",
    "        self.buffer.append((state, action, reward, done, next_state))\n",
    "        \n",
    "    def sample(self, size):\n",
    "        s = random.sample(self.buffer, k=size)\n",
    "        states = np.array([_[0] for _ in s])\n",
    "        actions = np.array([_[1] for _ in s])\n",
    "        rewards = np.array([_[2] for _ in s])\n",
    "        dones = np.array([_[3] for _ in s])\n",
    "        next_states = np.array([_[4] for _ in s])\n",
    "\n",
    "        return states, actions, rewards, dones, next_states\n",
    "        \n",
    "    def __len__(self):\n",
    "        return len(self.buffer)\n",
    "\n",
    "class Agent:\n",
    "    def __init__(self, state_size, action_size):\n",
    "        # Construct the actor and critic networks\n",
    "        self.actor = Actor(state_size, action_size)\n",
    "        self.actor_optimizer = optim.Adam(self.actor.parameters(), lr=0.0001)\n",
    "        self.critic = Critic(2*state_size, action_size)\n",
    "        # Don't use weight decay for critic optimizer. It didn't seem to help\n",
    "        self.critic_optimizer = optim.Adam(self.critic.parameters(), lr=0.001)\n",
    "\n",
    "        # Construct the target networks\n",
    "        self.target_actor = copy.deepcopy(self.actor)\n",
    "        self.target_actor.eval()\n",
    "        self.target_critic = copy.deepcopy(self.critic)\n",
    "        self.target_critic.eval()\n",
    "        \n",
    "    def target_value(self, x, actions):\n",
    "        with torch.no_grad():\n",
    "            qvalue = self.target_critic(x, actions)\n",
    "        return qvalue\n",
    "\n",
    "    def target_actions(self, obs):\n",
    "        with torch.no_grad():\n",
    "            result = self.target_actor(obs)\n",
    "        return result\n",
    "    \n",
    "    def update_critic(self, y, x, actions):\n",
    "        value = self.critic(x, actions)\n",
    "        loss = F.mse_loss(value, y)\n",
    "        self.critic_optimizer.zero_grad()\n",
    "        loss.backward()\n",
    "        self.critic_optimizer.step()\n",
    "        return loss\n",
    "    \n",
    "    def update_actor(self, x, obs):\n",
    "        loss = -torch.mean(self.critic(x, self.actor(obs)))\n",
    "        self.actor_optimizer.zero_grad()\n",
    "        loss.backward()\n",
    "        self.actor_optimizer.step()\n",
    "        return loss\n",
    "        \n",
    "    def act(self, obs):\n",
    "        self.actor.eval()\n",
    "        with torch.no_grad():\n",
    "            result = self.actor(torch.from_numpy(obs)).numpy()\n",
    "        self.actor.train()\n",
    "        return result\n",
    "    \n",
    "def update_target(model, target, tau):\n",
    "    # Do a \"soft\" update of the target model trainable parameters\n",
    "    for target_param, param in zip(target.parameters(), model.parameters()):\n",
    "        target_param.data.copy_(target_param.data * (1.0 - tau) + param.data * tau)\n",
    "    \n",
    "class MADDPG:\n",
    "    def __init__(self, state_size, action_size, num_agents):\n",
    "        self.replay = ReplayBuffer(int(1e6))    \n",
    "        self.agents = [Agent(state_size, action_size) for _ in range(num_agents)]\n",
    "        self.writer = SummaryWriter()\n",
    "        self.iter = 0\n",
    "        \n",
    "    def __del__(self):\n",
    "        # export scalar data to JSON for external processing\n",
    "        self.writer.export_scalars_to_json(\"./all_scalars.json\")\n",
    "        self.writer.close()\n",
    "        \n",
    "    def act(self, obs):\n",
    "        \"\"\"\n",
    "        For each agent select action according to current policy\n",
    "        \n",
    "        Args:\n",
    "            param1 (np.array) obs: Observation state of environment\n",
    "            \n",
    "        Returns:\n",
    "            np.array: actions determined by the policy\n",
    "        \"\"\"\n",
    "        # For each agent select action according to current policy. The\n",
    "        # actor and critic both get passed the concatenated environment\n",
    "        # state, which helps offset the inherent non-stationarity of the\n",
    "        # environment\n",
    "        return np.stack([agent.act(obs[i]).squeeze()\n",
    "                         for i, agent in enumerate(self.agents)])\n",
    "\n",
    "    def train(self, gamma, tau):\n",
    "        \"\"\"\n",
    "        Train each agent using a random minibatch of samples from the\n",
    "        replay buffer\n",
    "        \n",
    "        Args:\n",
    "            param1 (float) gamma: The discount factor to use\n",
    "            param2 (float) tau: The value to use for soft target updates\n",
    "        \"\"\"\n",
    "        for i, agent in enumerate(self.agents):\n",
    "            # Sample a random minibatch\n",
    "            obs, actions, rewards, dones, next_obs = self.replay.sample(BATCH_SIZE)\n",
    "            \n",
    "            # Convert to PyTorch tensors\n",
    "            obs = torch.from_numpy(obs)\n",
    "            x = torch.reshape(obs, (BATCH_SIZE, -1))\n",
    "            actions = torch.from_numpy(actions)\n",
    "            rewards = torch.from_numpy(rewards.astype(np.float32))[:, i].unsqueeze(1)\n",
    "            dones = torch.from_numpy(dones.astype(np.uint8))[:, i].unsqueeze(1).float()\n",
    "            next_obs = torch.from_numpy(next_obs)\n",
    "            next_x = torch.reshape(next_obs, (BATCH_SIZE, -1))\n",
    "            \n",
    "            # Compute the actions associated with the next observations and\n",
    "            # the estimated action value and target (y)\n",
    "            next_actions = agent.target_actions(next_obs[:,i,:])\n",
    "            value = agent.target_value(next_x, next_actions)\n",
    "            y = rewards + gamma*value*(1 - dones)\n",
    "            \n",
    "            # Update the critic and actor\n",
    "            critic_loss = agent.update_critic(y, x, actions[:,i,:])\n",
    "            self.writer.add_scalar('data/critic_{}_loss'.format(i+1), critic_loss, self.iter)  \n",
    "            actor_loss = agent.update_actor(x, obs[:,i,:])\n",
    "            self.writer.add_scalar('data/actor_{}_loss'.format(i+1), actor_loss, self.iter)     \n",
    "            \n",
    "            # Update target network parameters\n",
    "            self.soft_update(agent.critic, agent.target_critic, tau)\n",
    "            self.soft_update(agent.actor, agent.target_actor, tau)\n",
    "            \n",
    "        self.iter += 1\n",
    "            \n",
    "    def soft_update(self, model, target, tau):\n",
    "        # Do a \"soft\" update of the target model trainable parameters\n",
    "        for target_param, param in zip(target.parameters(), model.parameters()):\n",
    "            target_param.data.copy_(target_param.data * (1.0 - tau) + param.data * tau)\n",
    "            \n",
    "    def hard_update(self, model, target):\n",
    "        target.load_state_dict(model.state_dict())\n",
    "        \n",
    "    def save(self):\n",
    "        torch.save(self.agents[0].actor.state_dict(), 'agent_1_actor_checkpoint.pth')\n",
    "        torch.save(self.agents[0].critic.state_dict(), 'agent_1_critic_checkpoint.pth')\n",
    "        torch.save(self.agents[1].actor.state_dict(), 'agent_2_actor_checkpoint.pth')\n",
    "        torch.save(self.agents[1].critic.state_dict(), 'agent_2_critic_checkpoint.pth')"
   ]
  },
  {
   "cell_type": "code",
   "execution_count": 8,
   "metadata": {},
   "outputs": [
    {
     "name": "stderr",
     "output_type": "stream",
     "text": [
      "100% (7500 of 7500) |####################| Elapsed Time: 1:01:46 Time:  1:01:46\n"
     ]
    },
    {
     "name": "stdout",
     "output_type": "stream",
     "text": [
      "\n",
      "Environment solved in 5757 episodes!\tAverage Score: 0.50\n"
     ]
    }
   ],
   "source": [
    "import progressbar as pb\n",
    "\n",
    "RANDOM_SEED=627\n",
    "\n",
    "def learn(maddpg, num_episodes, max_episode_len=750, gamma=0.99, tau=0.001, noise_std=0.5, warmup=500):\n",
    "    steps = 0\n",
    "    progress = pb.ProgressBar()    \n",
    "    scores = []                         # maximum reward across the agents per episode\n",
    "    rewards_buffer = deque(maxlen=100)  # rolling buffer for episode rewards\n",
    "    \n",
    "    for episode in progress(range(num_episodes)):\n",
    "        episode_len = 0\n",
    "        total_rewards = np.zeros(num_agents)\n",
    "        action_noises = [OrnsteinUhlenbeckActionNoise(mu=np.array((0.0, 0.0)),\n",
    "                                                      sigma=np.array((noise_std, noise_std)),\n",
    "                                                      theta=0.15)\n",
    "                         for _ in range(num_agents)]\n",
    "        \n",
    "        # Track decay of action noise in tensorboard\n",
    "        maddpg.writer.add_scalar('data/noise_std', noise_std, episode)\n",
    "        \n",
    "        # Reset observation and receive initial observation state\n",
    "        env_info = env.reset(train_mode=True)[brain_name]\n",
    "        obs = np.asarray(env_info.vector_observations, dtype=np.float32)\n",
    "        \n",
    "        while True:\n",
    "            # Execute action a_t and observe reward r_t and new state s_{t+1}\n",
    "            if steps < warmup:\n",
    "                actions = np.random.uniform(-1.0, 1.0, (num_agents, action_size)).astype(np.float32)\n",
    "            else:\n",
    "                actions = maddpg.act(obs)\n",
    "                for action, noise in zip(actions, action_noises):\n",
    "                    action += noise().astype(np.float32)\n",
    "                actions = np.clip(actions, -1, 1)\n",
    "\n",
    "            env_info = env.step(actions)[brain_name]\n",
    "\n",
    "            # Get the reward and next state\n",
    "            rewards = env_info.rewards\n",
    "            total_rewards += rewards\n",
    "            next_obs = np.asarray(env_info.vector_observations, dtype=np.float32)\n",
    "            dones = env_info.local_done\n",
    "            \n",
    "            # Store transitions (s_t, a_t, r_t, s_{t+1}) in replay buffer\n",
    "            maddpg.replay.add(obs, actions, rewards, dones, next_obs)\n",
    "            obs = next_obs\n",
    "            steps += 1\n",
    "            \n",
    "            # Update the policies\n",
    "            if steps > 1024:\n",
    "                maddpg.train(gamma, tau)\n",
    "                    \n",
    "            episode_len += 1\n",
    "            if np.any(dones) or episode_len >= max_episode_len:\n",
    "                break\n",
    "        \n",
    "        # Episode is done or reached maximum timesteps\n",
    "        scores.append(max(total_rewards))\n",
    "        rewards_buffer.append(max(total_rewards))\n",
    "        maddpg.writer.add_scalar('data/episode_length', episode_len, episode)\n",
    "        maddpg.writer.add_scalar('data/episode_reward', max(total_rewards), episode)\n",
    "        noise_std = max(0.03, noise_std*0.995)  # exponential decay of action noise\n",
    "\n",
    "        if np.mean(rewards_buffer) >= 0.5:\n",
    "            progress.finish()\n",
    "            print(\"\\nEnvironment solved in {:d} episodes!\\tAverage Score: {:.2f}\" \\\n",
    "                  .format(episode - 100, np.mean(rewards_buffer)))\n",
    "            # Save the models\n",
    "            maddpg.save()\n",
    "            break\n",
    "     \n",
    "    return scores\n",
    "\n",
    "random.seed(RANDOM_SEED)\n",
    "torch.manual_seed(RANDOM_SEED)\n",
    "maddpg = MADDPG(state_size, action_size, num_agents)\n",
    "scores = learn(maddpg, 7500, gamma=0.99, tau=0.005, warmup=0)"
   ]
  },
  {
   "cell_type": "markdown",
   "metadata": {},
   "source": [
    "### 6. Plot the rewards\n",
    "\n",
    "Plot the training progress over time"
   ]
  },
  {
   "cell_type": "code",
   "execution_count": 9,
   "metadata": {},
   "outputs": [
    {
     "data": {
      "image/png": "[encoded data removed]",
      "text/plain": [
       "<Figure size 432x288 with 1 Axes>"
      ]
     },
     "metadata": {
      "needs_background": "light"
     },
     "output_type": "display_data"
    }
   ],
   "source": [
    "import matplotlib\n",
    "import matplotlib.pyplot as plt\n",
    "%matplotlib inline\n",
    "\n",
    "# plot the scores\n",
    "fig = plt.figure()\n",
    "ax = fig.add_subplot(111)\n",
    "plt.plot(np.arange(len(scores)), scores)\n",
    "plt.ylabel('Score')\n",
    "plt.xlabel('Episode #')\n",
    "plt.show()\n",
    "fig.savefig('training.pdf', bbox_inches='tight')"
   ]
  },
  {
   "cell_type": "markdown",
   "metadata": {},
   "source": [
    "### 7. Play an episode"
   ]
  },
  {
   "cell_type": "code",
   "execution_count": 10,
   "metadata": {},
   "outputs": [],
   "source": [
    "maddpg.agents[0].actor.eval()\n",
    "maddpg.agents[1].actor.eval()\n",
    "for i in range(1, 16):                                      # play game for 15 episodes\n",
    "    env_info = env.reset(train_mode=False)[brain_name]\n",
    "    obs = np.asarray(env_info.vector_observations, dtype=np.float32)\n",
    "    while True:\n",
    "        actions = maddpg.act(obs)\n",
    "        env_info = env.step(actions)[brain_name]           # send all actions to the environment\n",
    "        obs = np.asarray(env_info.vector_observations, dtype=np.float32)\n",
    "        rewards = env_info.rewards                         # get reward (for each agent)\n",
    "        dones = env_info.local_done                        # see if episode finished\n",
    "        if np.any(dones):                                  # exit loop if episode finished\n",
    "            break"
   ]
  },
  {
   "cell_type": "code",
   "execution_count": null,
   "metadata": {},
   "outputs": [],
   "source": [
    "env.close()"
   ]
  }
 ],
 "metadata": {
  "kernelspec": {
   "display_name": "Python 3",
   "language": "python",
   "name": "python3"
  },
  "language_info": {
   "codemirror_mode": {
    "name": "ipython",
    "version": 3
   },
   "file_extension": ".py",
   "mimetype": "text/x-python",
   "name": "python",
   "nbconvert_exporter": "python",
   "pygments_lexer": "ipython3",
   "version": "3.6.7"
  }
 },
 "nbformat": 4,
 "nbformat_minor": 2
}
